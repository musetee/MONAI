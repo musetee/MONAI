{
 "cells": [
  {
   "cell_type": "markdown",
   "metadata": {},
   "source": [
    "# 目录\n",
    "（1）标题\n",
    "\n",
    "（2）字体\n",
    "\n",
    "（3）删除线\n",
    "\n",
    "（4）下划线"
   ]
  },
  {
   "cell_type": "markdown",
   "metadata": {},
   "source": [
    "# 标题标记的使用\n",
    "\n",
    "标题包含1-6个级别，1级的标题字最大，6级的标题字最小，如果一行的开头使用“#”，并且后面空一格，就能被认为是标题，根据“#”的多少，代表不同的标题级别：\n",
    "\n",
    "# 我是一级标题\n",
    "## 我是二级标题\n",
    "### 我是三级标题\n",
    "#### 我是四级标题\n",
    "##### 我是五级标题\n",
    "###### 我是六级标题"
   ]
  },
  {
   "cell_type": "markdown",
   "metadata": {},
   "source": [
    "# 字体标记的使用\n",
    "\n",
    "markdown支持三种字体，注意中间不要有空格\n",
    "\n",
    "斜体 * *\n",
    "\n",
    "粗体 ** **\n",
    "\n",
    "粗斜体 *** ***\n",
    "\n",
    "整句话加粗 __ __\n",
    "\n",
    "*它是斜体*\n",
    "\n",
    "**它是粗体**\n",
    "\n",
    "***它是粗斜体***"
   ]
  },
  {
   "cell_type": "markdown",
   "metadata": {},
   "source": [
    "# 给文字添加删除线\n",
    "\n",
    "删除线就是在文字中间显示出一条横线，比如自己想要表明某个函数在下一个版本中将会被废弃：\n",
    "\n",
    "~~ ~~\n",
    "\n",
    "~~read image~~"
   ]
  },
  {
   "cell_type": "markdown",
   "metadata": {},
   "source": [
    "# 给文字添加下划线\n",
    "\n",
    "下划线需要使用来实现，有点类似xml的标签，这个和前面的符号相比有些复杂：\n",
    "\n",
    "<u>这句话有下划线吗</u>"
   ]
  },
  {
   "cell_type": "markdown",
   "metadata": {},
   "source": [
    "# 插入图片\n",
    "## 通过HTML方式\n",
    "插入本地图片\n",
    "使用 <img src> 语句插入本地图片，其中src为图片路径，可以是相对路径或绝对路径。"
   ]
  },
  {
   "cell_type": "markdown",
   "metadata": {},
   "source": [
    "<img src=\"./jupyter_logo.png\">"
   ]
  },
  {
   "cell_type": "markdown",
   "metadata": {},
   "source": [
    "如果不指定维度，则为原图大小。\n",
    "\n",
    "### 插入网络图片\n",
    "<img src> 语句同样可以插入网络图片。"
   ]
  },
  {
   "cell_type": "markdown",
   "metadata": {},
   "source": [
    "<img src=\"https://jupyter.org/assets/homepage/main-logo.svg\">"
   ]
  },
  {
   "cell_type": "markdown",
   "metadata": {},
   "source": [
    "## 通过Markdown格式插入图片\n",
    "插入图片的格式为：![图片标签](图片源 src)，其中，在图像显示错误的时候会显示图像标签的内容。"
   ]
  },
  {
   "cell_type": "markdown",
   "metadata": {},
   "source": [
    "### 插入本地图片\n",
    " 需将图片源换成图片的本地路径，可以是绝对路径或相对路径。\n",
    "\n",
    "![jupyter](./jupyter_logo.png)\n",
    "\n",
    "### 插入网络图片 \n",
    " 需将图像源设为图像网址，\n",
    "\n",
    "![jupyter](https://jupyter.org/assets/homepage/main-logo.svg)"
   ]
  }
 ],
 "metadata": {
  "kernelspec": {
   "display_name": "Python 3.8.13 ('MONAI41')",
   "language": "python",
   "name": "python3"
  },
  "language_info": {
   "codemirror_mode": {
    "name": "ipython",
    "version": 3
   },
   "file_extension": ".py",
   "mimetype": "text/x-python",
   "name": "python",
   "nbconvert_exporter": "python",
   "pygments_lexer": "ipython3",
   "version": "3.8.13"
  },
  "orig_nbformat": 4,
  "vscode": {
   "interpreter": {
    "hash": "3c01f883ef9e9befaa05a2a694449daf777fa23f3d50f249b4bf4fb6c581c032"
   }
  }
 },
 "nbformat": 4,
 "nbformat_minor": 2
}
