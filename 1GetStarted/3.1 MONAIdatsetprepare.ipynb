{
 "cells": [
  {
   "cell_type": "markdown",
   "metadata": {},
   "source": [
    "# MONAI中，一定要学会的三种Dataset使用方法\n",
    "MONIA提供了非常多的Dataset, 包括Dataset⭐️, IterableDataset, PersistentDataset, CacheDataset⭐️, SmartCacheDataset, ZipDataset, ArrayDataset⭐️, ImageDataset\n",
    "\n",
    "今天介绍几个比较常用的。还有很多其他的dataset函数，这里只是入门，具体查看官网\n"
   ]
  },
  {
   "cell_type": "markdown",
   "metadata": {},
   "source": [
    "## monai.data.Dataset\n",
    "### 参数简介\n",
    "\n",
    "data: 将image 和 label 的地址或值存为字典。label可以是分割的图像，也可以是分类的值（如0， 1， 2...）\n",
    "\n",
    "transform: 根据分类或分割任务来定义\n",
    "\n",
    "### 举例 \n"
   ]
  },
  {
   "cell_type": "code",
   "execution_count": null,
   "metadata": {},
   "outputs": [],
   "source": [
    "import os\n",
    "from glob import glob  # 注意这是两个glob\n",
    "import numpy as np\n",
    " \n",
    "import monai\n",
    "from monai.data import Dataset \n",
    " \n",
    "imglist = sorted(glob('/Volumes/Backup Plus/data/COVID_DATA/MONAI-dataset/*.jpg'))[:11]\n",
    "label = np.concatenate((np.zeros(5, dtype=np.int64), np.ones(6, dtype=np.int64)))\n",
    "data_dict =  [{'image': image, 'label': label} for image, label in zip(image_list, label)]\n"
   ]
  },
  {
   "cell_type": "markdown",
   "metadata": {},
   "source": [
    "* 创建字典的意思就是将image和label搞成对，哪幅图像对应哪个标签。这里的image是图像存放的地址，而图像的格式可以使jpg, png, nii.gz, 二维三维都可以，关于label, 如果是分类，那它应该是数值，如果是分割，那它就是图像的mask地址\n",
    "* 记住这个字典对，之后取数据来训练的时候，就是根据字典的键来取得，也就是这里的'image'和‘label’。你也可以改成其他的，如'img'和‘seg’。不管改成什么，记住就ok\n",
    "* 如果是分割，那么image, label都是地址。下图我是直接把image当做label进行演示。\n",
    "\n",
    "* 这就把image和label搞好了，接下来就是把配对好的数据组装成dataset和dataloder\n",
    "\n",
    "* 注意注意 对于Dataset 这个函数，需要特别注意，因为它只接收图像标签对形式的字典，所有在做transform的时候，要选择字典transform, 也就是所有的变换后面都要加一个’d‘， 如要加在图像，用LoadImage，字典的话就要用LoadImaged.\n"
   ]
  },
  {
   "cell_type": "code",
   "execution_count": null,
   "metadata": {},
   "outputs": [],
   "source": [
    "from monai.transforms import Compose, LoadImaged, AddChanneld, ToTensord, Resized\n",
    "transform = Compose(\n",
    "    [\n",
    "        LoadImaged(keys='image'), # 做分类，这里image需要加载\n",
    "        AddChanneld(keys='image'),   # 给加载进来的图像加个通道，只针对图像。\n",
    "        Resized(keys='image', spatial_size=(96,96)),\n",
    "        ToTensord(keys='image'),   # 把图像转成tensor格式\n",
    "    ]\n",
    ")\n",
    "\n",
    "train_ds = Dataset(data=data_dict[:7], transform=transform)\n",
    "val_ds = Dataset(data=data_dict[-4:], transform=transform)\n",
    "train_loader = monai.data.DataLoader(\n",
    "    train_ds, batch_size=4, shuffle=True, num_workers=10)\n",
    "test_loader = monai.data.DataLoader(\n",
    "    val_ds, batch_size=2, shuffle=True, num_workers=10)\n"
   ]
  },
  {
   "cell_type": "markdown",
   "metadata": {},
   "source": [
    "## monai.data.CacheDataset\n",
    "\n",
    "具有缓存机制的dataset，就是在第一个epoch之前，把所有训练的数据都加载进缓存，这样可以加快网络提取数据的速度。它有两个注意点。第一个是，它缓存的是确定性变换（或者说是非随机变换）后的数据，而不是原始数据。比如你在transform中，使用了上图所示的变换，其中，LoadImaged, Addchanneld, Spacingd, Orientationd,SacleIntensityRanged都是确定性变化，于是缓存的是经过这些变换之后的数据。而剩余的变换包括（RandCropByPosNegLabels, ToTensord）是每次迭代的时候进行的。\n",
    "\n",
    "### 总 结\n",
    "\n",
    "CacheDataset缓存确定性变换后的结果，其余的随机变换在每次迭代的时候进行。\n",
    "\n",
    "根据这个规则，我们应该把尽可能多的确定性变换放在随机变换之前。而一般来讲，ToTensord()是确定性的，但通常应该是最后一个变换。\n",
    "\n",
    "在使用带缓存机制的dataset的时候，会在训练前处理数据，因此加载数据的过程会很慢，但是训练的时候会比普通的快。我一般也是用CacheDataset比较多。官方测试的一个对比如下：\n",
    "\n",
    "\n",
    "### 参数介绍\n",
    "\n",
    "data和transform同前面的Dataset.\n",
    "\n",
    "cache_num: 要缓存的项目数(int)。默认值为sys.maxsize\n",
    "\n",
    "cache_rate: 缓存数据占总数的百分比。默认为1（即全部缓存）\n",
    "\n",
    "num_workers: 要使用的工作进程数目\n",
    "\n"
   ]
  },
  {
   "cell_type": "markdown",
   "metadata": {},
   "source": [
    "## monai.data.ArrayDataset\n",
    "不管是分类还是分割，都可以使用该数组模式。在该模式下，可以确保为图像，分割，分割标签和分类标签用相同的随机数种子。\n",
    "\n",
    "注意注意\n",
    "\n",
    "使用ArrayDataset加载数据时，必须设定image_only=True，只加载图像值而不加载元数据，否则会报错。\n",
    "\n",
    "### 参数介绍\n",
    "\n",
    "img:  图像地址\n",
    "\n",
    "img_transform: 用于图像的transform\n",
    "\n",
    "seg: 如果是分割，为图像地址，如果是分类，不填即可\n",
    "\n",
    "seg_transform: 如果是分割，填写对mask的变换\n",
    "\n",
    "label: 如果是分类, 为数组\n",
    "\n",
    "label_transform: 如果是分类，对label做的变换，一般不做变换\n",
    "\n",
    "### 举例：\n",
    "\n"
   ]
  },
  {
   "cell_type": "code",
   "execution_count": null,
   "metadata": {},
   "outputs": [],
   "source": [
    "import monai\n",
    "import os\n",
    "from glob import glob\n",
    "from monai.data import ArrayDataset\n",
    "from monai.transforms import Compose, LoadImage, AddChannel, ToTensor, Resize\n",
    " \n",
    "imglist = sorted(glob('/Volumes/Backup Plus/data/COVID_DATA/MONAI-dataset/*.jpg'))[:11]\n",
    "label = np.concatenate((np.zeros(5, dtype=np.int64), np.ones(6, dtype=np.int64)))\n",
    "\n",
    "transform = Compose(\n",
    "    [\n",
    "        LoadImage(image_only=True),   # 使用数组加载数据时，必须设定image_only=True，只加载图像值而不加载元数据\n",
    "        AddChannel(),\n",
    "        Resize(spatial_size=(96,96,96)),\n",
    "        ToTensor()\n",
    "    ]\n",
    ")\n",
    "#由于加载的是数组，这里所有的transform都不加‘d’。"
   ]
  },
  {
   "cell_type": "markdown",
   "metadata": {},
   "source": [
    "主要分享这三种常用的Dataset, 满足大部分应用场景。本次分享的代码，可以尝试使用任意的二维数据格式或三维数据练一练。需要注意的是，图像格式如果是jpeg，LoadImage（）是不支持加载的，图像如果是RGB格式（长*宽*3通道）, 也是不能按这种方式加载的，如果手里只有RGB格式的数据，可以在transform中，像我一样，添加一个Resize()，把它变成一个三维数据，练练。但是实际应用中，这样是不科学的。\n",
    "\n",
    "MONAI本来是为医学图形开发的，而医学图像，尤其是三维医学图像（CT 和MRI）通常都是以nii.gz格式保存的，所以使用nii.gz格式的图像执行上述操作是更好的。"
   ]
  }
 ],
 "metadata": {
  "kernelspec": {
   "display_name": "Python 3.8.13 ('MONAI041')",
   "language": "python",
   "name": "python3"
  },
  "language_info": {
   "name": "python",
   "version": "3.8.13"
  },
  "orig_nbformat": 4,
  "vscode": {
   "interpreter": {
    "hash": "6c6cbe1f5155eac5cd789953871eea6947de8ed674aa5742a1f5923b9ebac0fd"
   }
  }
 },
 "nbformat": 4,
 "nbformat_minor": 2
}
