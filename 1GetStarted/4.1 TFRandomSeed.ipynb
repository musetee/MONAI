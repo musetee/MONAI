{
 "cells": [
  {
   "cell_type": "markdown",
   "metadata": {},
   "source": [
    "不管有没有通过tf.set_random_seed设置随机种子，在同一Session中随机函数产生的变量在多次sess.run()的时候值都是不同的。\n",
    "有没有设置随机种子控制的是不同Session中运行sess..run()得到的随机值是相同还是不同。\n",
    "\n",
    "* 如果在计算图中统一设置随机种子，则在不同Session中得到的随机值是相同的；\n",
    "\n",
    "* 如果只对某个变量设置随机种子则该变量在不同Session中得到的随机值是相同的；\n",
    "\n",
    "* 如果不设置随机种子则变量在不同Session中得到的随机数都是不同的。\n",
    "\n",
    "注：随机数的产生方法可参考tf.Variable变量初始化中相关章节。"
   ]
  },
  {
   "cell_type": "markdown",
   "metadata": {},
   "source": [
    "* 没有通过set_random_seed()来控制随机数种子，每次运算结果都不同，不管是同一Session中还是不同Session中。"
   ]
  },
  {
   "cell_type": "code",
   "execution_count": 7,
   "metadata": {},
   "outputs": [
    {
     "name": "stdout",
     "output_type": "stream",
     "text": [
      "Session 1\n",
      "[0.9805932]\n",
      "[0.40381205]\n",
      "[0.2922283]\n",
      "[-0.8270416]\n",
      "Session 2\n",
      "[0.40089715]\n",
      "[0.05362761]\n",
      "[-1.3568465]\n",
      "[-1.1331391]\n"
     ]
    }
   ],
   "source": [
    "import tensorflow as tf\n",
    "\n",
    "# The tensorflow core r2.0 have enabled eager execution by default \n",
    "# so doesn't need to write tf.compat.v1.Session() and use .run() function\n",
    "#If we want to use tf.compat.v1.Session() then we need to do this:\n",
    "# tf.compat.v1.disable_eager_execution() in the starting of algorithm. \n",
    "# Now we can use tf.compat.v1.Session() and .run() function.\n",
    "\n",
    "tf.compat.v1.disable_eager_execution()\n",
    "\n",
    "a = tf.compat.v1.random_uniform([1])\n",
    "b = tf.compat.v1.random_normal([1])\n",
    "\n",
    "with tf.compat.v1.Session() as sess1:\n",
    "  print(\"Session 1\")\n",
    "  print(sess1.run(a))  # generates 'A1'\n",
    "  print(sess1.run(a))  # generates 'A2'\n",
    "  print(sess1.run(b))  # generates 'B1'\n",
    "  print(sess1.run(b))  # generates 'B2'\n",
    "\n",
    "with tf.compat.v1.Session() as sess2:\n",
    "  print(\"Session 2\")\n",
    "  print(sess2.run(a))  # generates 'A3'\n",
    "  print(sess2.run(a))  # generates 'A4'\n",
    "  print(sess2.run(b))  # generates 'B3'\n",
    "  print(sess2.run(b))  # generates 'B4'\n"
   ]
  },
  {
   "cell_type": "markdown",
   "metadata": {},
   "source": [
    "* 仅对某个变量设置随机种子,则该变量在不同Session中产生的随机数相同,但同一Session中不同"
   ]
  },
  {
   "cell_type": "code",
   "execution_count": 9,
   "metadata": {},
   "outputs": [
    {
     "name": "stdout",
     "output_type": "stream",
     "text": [
      "Session 1\n",
      "[0.2390374]\n",
      "[0.22267115]\n",
      "[-1.2448735]\n",
      "[-0.22460927]\n",
      "Session 2\n",
      "[0.2390374]\n",
      "[0.22267115]\n",
      "[0.8909021]\n",
      "[1.6960934]\n"
     ]
    }
   ],
   "source": [
    "import tensorflow as tf\n",
    "\n",
    "tf.compat.v1.disable_eager_execution()\n",
    "\n",
    "# 仅对某个变量设置随机种子,则该变量在不同Session中产生的随机数相同,但同一Session中不同\n",
    "# 没有对b设置随机种子,因此b不管是在不同Session中还是在同一Session中都是不同的\n",
    "\n",
    "a = tf.compat.v1.random.uniform([1], seed=1)\n",
    "b = tf.compat.v1.random.normal([1])\n",
    "\n",
    "# Repeatedly running this block with the same graph will generate the same\n",
    "# sequence of values for 'a', but different sequences of values for 'b'.\n",
    "with tf.compat.v1.Session() as sess1:\n",
    "  print(\"Session 1\")\n",
    "  print(sess1.run(a))  # generates 'A1'\n",
    "  print(sess1.run(a))  # generates 'A2'\n",
    "  print(sess1.run(b))  # generates 'B1'\n",
    "  print(sess1.run(b))  # generates 'B2'\n",
    "\n",
    "with tf.compat.v1.Session() as sess2:\n",
    "  print(\"Session 2\")\n",
    "  print(sess2.run(a))  # generates 'A1'\n",
    "  print(sess2.run(a))  # generates 'A2'\n",
    "  print(sess2.run(b))  # generates 'B3'\n",
    "  print(sess2.run(b))  # generates 'B4'"
   ]
  }
 ],
 "metadata": {
  "kernelspec": {
   "display_name": "Python 3.8.13 ('TF')",
   "language": "python",
   "name": "python3"
  },
  "language_info": {
   "codemirror_mode": {
    "name": "ipython",
    "version": 3
   },
   "file_extension": ".py",
   "mimetype": "text/x-python",
   "name": "python",
   "nbconvert_exporter": "python",
   "pygments_lexer": "ipython3",
   "version": "3.8.13"
  },
  "orig_nbformat": 4,
  "vscode": {
   "interpreter": {
    "hash": "1027bde847aeebaac22b3432dbb04e3d0060c0d043663af34487136100ff3f40"
   }
  }
 },
 "nbformat": 4,
 "nbformat_minor": 2
}
