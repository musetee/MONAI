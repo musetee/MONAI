{
 "cells": [
  {
   "cell_type": "markdown",
   "metadata": {},
   "source": [
    "# 1. 前言\n",
    "## 1.1 什么是魔法函数？\n",
    "所谓魔法函数（Magic Methods），是Python的一种高级语法，允许你在类中自定义函数（函数名格式一般为__xx__），并绑定到类的特殊方法中。比如在类A中自定义__str__()函数，则在调用str(A())时，会自动调用__str__()函数，并返回相应的结果。在我们平时的使用中，可能经常使用__init__函数（构造函数）和__del__函数（析构函数），其实这也是魔法函数的一种。\n",
    "\n",
    "* Python中以双下划线(__xx__)开始和结束的函数（不可自己定义）为魔法函数。\n",
    "* 调用类实例化的对象的方法时自动调用魔法函数。\n",
    "* 在自己定义的类中，可以实现之前的内置函数。"
   ]
  },
  {
   "cell_type": "markdown",
   "metadata": {},
   "source": [
    "## 1.2 魔法函数有什么作用？\n",
    "魔法函数可以为你写的类增加一些额外功能，方便使用者理解。举个简单的例子，我们定义一个“人”的类People，当中有属性姓名name、年龄age。\n",
    "\n",
    "让你需要利用sorted函数对一个People的数组进行排序，排序规则是按照name和age同时排序，即name不同时比较name，相同时比较age。由于People类本身不具有比较功能，所以需要自定义，你可以这么定义People类："
   ]
  },
  {
   "cell_type": "code",
   "execution_count": 14,
   "metadata": {},
   "outputs": [
    {
     "name": "stdout",
     "output_type": "stream",
     "text": [
      "abc:17\tabc:18\tabe:12\tabe:19\n"
     ]
    }
   ],
   "source": [
    "class People(object):\n",
    "    # 传递输入的参数，name和age给self\n",
    "    def __init__(self, name, age):\n",
    "        self.name = name\n",
    "        self.age = age\n",
    "        return\n",
    "\n",
    "    # 用self来继续操作\n",
    "    def __str__(self):\n",
    "        return self.name + \":\" + str(self.age)\n",
    "\n",
    "    def __lt__(self, other):\n",
    "        return self.name < other.name if self.name != other.name else self.age < other.age\n",
    "\n",
    "\n",
    "if __name__==\"__main__\":\n",
    "    print(\"\\t\".join([str(item) for item in sorted([People(\"abc\", 18),\n",
    "        People(\"abe\", 19), People(\"abe\", 12), People(\"abc\", 17)])]))"
   ]
  },
  {
   "cell_type": "markdown",
   "metadata": {},
   "source": [
    "上个例子中的__lt__函数即less than函数，即当比较两个People实例时自动调用。"
   ]
  },
  {
   "cell_type": "code",
   "execution_count": 13,
   "metadata": {},
   "outputs": [
    {
     "data": {
      "text/plain": [
       "False"
      ]
     },
     "execution_count": 13,
     "metadata": {},
     "output_type": "execute_result"
    }
   ],
   "source": [
    "Yang=People(\"Yang\",26)\n",
    "Zhang=People(\"Zhang\",27)\n",
    "Yang>Zhang"
   ]
  },
  {
   "cell_type": "markdown",
   "metadata": {},
   "source": [
    "# 2. 常见的魔法函数\n",
    "我们将魔法方法分为：非数学运算和数学运算两大类。\n",
    "\n",
    "## 2.1 非数学运算\n",
    "### 2.1.1 字符串表示\n",
    "_repr__函数和__str__函数：\n",
    "\n",
    "### 2.1.2 集合、序列相关\n",
    "__len__函数、__getitem__函数、__setitem__函数、__delitem__函数和__contains__函数：\n",
    "\n",
    "https://zhuanlan.zhihu.com/p/356046252\n"
   ]
  },
  {
   "cell_type": "code",
   "execution_count": 14,
   "metadata": {},
   "outputs": [
    {
     "name": "stdout",
     "output_type": "stream",
     "text": [
      "3\n"
     ]
    }
   ],
   "source": [
    "# __len__\n",
    "class Students():\n",
    "    def __init__(self, *args):\n",
    "        self.names = args\n",
    "    def __len__(self):\n",
    "        return len(self.names)\n",
    "\n",
    "ss = Students('Bob', 'Alice', 'Tim')\n",
    "print(len(ss))"
   ]
  },
  {
   "cell_type": "code",
   "execution_count": 16,
   "metadata": {},
   "outputs": [
    {
     "name": "stdout",
     "output_type": "stream",
     "text": [
      "The\n",
      "time\n",
      "has\n",
      "come\n",
      "The\n"
     ]
    }
   ],
   "source": [
    "import re\n",
    "RE_WORD = re.compile(r'\\w+')\n",
    "class Sentence:\n",
    "    def __init__(self, text):\n",
    "        self.text = text\n",
    "        self.words = RE_WORD.findall(text)  # re.findall函数返回一个字符串列表，里面的元素是正则表达式的全部非重叠匹配\n",
    "    def __getitem__(self, index):\n",
    "        return self.words[index] \n",
    "s = Sentence('The time has come')\n",
    "for word in s:\n",
    "    print(word)\n",
    "print(s[0])"
   ]
  },
  {
   "cell_type": "markdown",
   "metadata": {},
   "source": [
    "序列可以迭代：\n",
    "\n",
    "我们都知道序列是可以迭代，下面具体说明原因。\n",
    "\n",
    "解释器需要迭代对象x时， 会自动调用iter(x)方法。内置的 iter(x) 方法有以下作用：\n",
    "\n",
    "检查对象是否实现了__iter__ 方法，如果实现了就调用它（也就是我们偶尔用到的特殊方法重载），获取一个迭代器。\n",
    "如果没有实现iter()方法， 但是实现了 __getitem__方法，Python会创建一个迭代器，尝试按顺序（从索引0开始，可以看到我们刚才是通过s[0]取值）获取元素。\n",
    "如果尝试失败，Python抛出TypeError异常，通常会提示TypeError: '***' object is not iterable。\n",
    "任何Python序列都可迭代的原因是，他们都实现了__getitem__方法。其实，标准的序列也都实现了__iter__方法。\n",
    "\n",
    "注意：从python3.4 开始，检查对象x能否迭代，最准确的方法是： 调用iter(x)方法，如果不可迭代，在处理TypeError异常。这比使用isinstance(x,abc.Iterable)更准确，因为iter()方法会考虑到遗留的__getitem__()方法，而abc.Iterable类则不考虑。\n",
    "\n",
    "凡是在类中定义了这个__getitem__ 方法，那么它的实例对象（假定为p），可以像这样p[key] 取值，当实例对象做p[key] 运算时，会调用类中的方法__getitem__。\n",
    "\n",
    "一般如果想使用索引访问元素时，就可以在类中定义这个方法（__getitem__(self, key) ），当实例对象通过[] 运算符取值时，会调用它的方法__getitem__。"
   ]
  },
  {
   "cell_type": "markdown",
   "metadata": {},
   "source": [
    "### 2.1.3 迭代相关\n",
    "__iter__函数和__next__函数：\n",
    "\n",
    "### 2.1.4 可调用\n",
    "__call__函数：\n",
    "\n",
    "\n",
    "### 2.1.5 with上下文管理器\n",
    "__enter__函数和__exit__函数：\n",
    "\n",
    "\n",
    "### 2.1.6 数值转换\n",
    "__abs__函数、__bool__函数、__int__函数、__float__函数、__hash__函数和__index__函数：\n",
    "\n",
    "### 2.1.7 元类相关\n",
    "__new__函数和__init__函数：\n",
    "\n",
    "### 2.1.8 属性相关\n",
    "__getattr__函数、__setattr__函数、__getattribute__函数、__setattribute__函数和__dir__函数：\n",
    "\n",
    "### 2.1.9 属性描述符\n",
    "__get__函数、__set__函数和__delete_函数：\n",
    "\n",
    "### 2.1.10 协程\n",
    "__await__函数、__aiter__函数、__anext__函数、__aenter__函数和__aexit__函数"
   ]
  },
  {
   "cell_type": "markdown",
   "metadata": {},
   "source": [
    "## 2.2 数学运算\n",
    "### 2.2.1 一元运算符\n",
    "__neg__ (-)、__pos__ (+)和__abs__函数。\n",
    "\n",
    "### 2.2.2 二元运算符\n",
    "__lt__ (<)、__le__ (<=)、__eq__ (==)、__ne__ (!=)、__gt__ (>)和__ge__ (>=)。\n",
    "\n",
    "### 2.2.3 算术运算符\n",
    "__add__ (+)、__sub__ (-)、__mul__ (*)、__truediv__ (/)、__floordiv__ (//)、__mod__ (%)、__divmod__ 或divmod()、__pow__ 或pow() (**)和__round__ 或round()。\n",
    "\n",
    "### 2.2.4 反向算术运算符\n",
    "__radd__、__rsub__、__rmul__、__rtruediv__、__rfloordiv__、__rmod__、__rdivmod__和__rpow__。\n",
    "\n",
    "### 2.2.5 增量赋值算术运算符\n",
    "__iadd__、__isub__、__imul__、__ifloordiv__和__ipow__。\n",
    "\n",
    "### 2.2.6 位运算符\n",
    "__invert__ (~)、__lshift__ (<<)、__rshift__ (>>)、__and__ (&)、__or__ (|)和__xor__ (^)。\n",
    "\n",
    "### 2.2.7 反向位运算符\n",
    "__rlshift__、__rrshift__、__iand__、__ixor__和__ior__。\n",
    "\n",
    "### 2.2.8 增量赋值运算符\n",
    "__ilshift__、__irshift__、__iand__、__ixor__和__ior__。"
   ]
  },
  {
   "cell_type": "markdown",
   "metadata": {},
   "source": [
    "# 特殊魔法函数：__main__\n",
    "## 1. __name__的理解\n",
    "## 1.1 为什么使用__name__属性？\n",
    "Python解释器在导入模块时，会将模块中没有缩进的代码全部执行一遍（模块就是一个独立的Python文件）。开发人员通常会在模块下方增加一些测试代码，__为了避免这些测试代码在模块被导入后执行，可以利用__name__属性。__\n",
    "## 1.2 __name__属性\n",
    "__name__属性是Python的一个内置属性，记录了一个字符串。\n",
    "* 若是在当前文件，__ name__是__ main__。\n",
    "    * 在hello文件中打印本文件的__name__属性值，显示的是__main__\n",
    "* 若是导入的文件，__name__是模块名。\n",
    "    * test文件导入hello模块，在test文件中打印出hello模块的__name__属性值，显示的是hello模块的模块名。\n",
    "    \n",
    "因此 __ name__ == '__ main__' 就表示在当前文件中，可以在if __ name__ == '__ main__':条件下写入测试代码，如此可以避免测试代码在模块被导入后执行\n",
    "\n"
   ]
  },
  {
   "cell_type": "code",
   "execution_count": 17,
   "metadata": {},
   "outputs": [
    {
     "name": "stdout",
     "output_type": "stream",
     "text": [
      "__main__\n",
      "People\n"
     ]
    }
   ],
   "source": [
    "print(__name__)\n",
    "print(People.__name__)"
   ]
  },
  {
   "cell_type": "markdown",
   "metadata": {},
   "source": [
    "## 2. 模块导入\n",
    "我们知道，当我们把模块A中的代码在模块B中进行import A时，只要B模块代码运行到该import语句，模块A的代码会被执行。"
   ]
  },
  {
   "cell_type": "markdown",
   "metadata": {},
   "source": [
    "如果在模块A中，我们有部分的代码不想在被导入到B时直接被运行，但在直接运行A时可直接运行，那该怎么做呢？那就可以用到“if __ name__==’__ main__:”这行代码了，我们队上面用到的A模块代码进行修改：\n",
    "\n",
    "A模块代码修改为：\n",
    "如果需要Package导入时直接运行，就把main那一行注释掉即可"
   ]
  },
  {
   "cell_type": "code",
   "execution_count": 10,
   "metadata": {},
   "outputs": [
    {
     "name": "stdout",
     "output_type": "stream",
     "text": [
      "你好，我是模块A……\n",
      "__main__\n",
      "30\n"
     ]
    }
   ],
   "source": [
    "# 模块A\n",
    "class A:\n",
    "    def __init__(self,a=2):\n",
    "        self.a=a\n",
    "        print('你好，我是模块A……')\n",
    "        print(__name__)\n",
    "if __name__=='__main__':\n",
    "    AClass=A(30)\n",
    "    print(AClass.a)"
   ]
  },
  {
   "cell_type": "markdown",
   "metadata": {},
   "source": [
    "B模块不做修改，直接执行B模块，输出结果如下：\n",
    "\n",
    "由于我们在A的代码内输出当前的name，就可以发现，导入的A-package的名称是package01的，而当前运行的主文件的名称是main，所以可以发现这个name应该是相当于matlab的workspace，导入package和当前主程序的name是不一样的"
   ]
  },
  {
   "cell_type": "code",
   "execution_count": 2,
   "metadata": {},
   "outputs": [
    {
     "name": "stdout",
     "output_type": "stream",
     "text": [
      "你好，我是模块A __main__……\n",
      "package01\n",
      "19\n",
      "你好，我是模块B……\n",
      "__main__\n",
      "200\n"
     ]
    }
   ],
   "source": [
    "# 模块B\n",
    "from package01 import A\n",
    "Aclass=A(19)\n",
    "print(Aclass.a)\n",
    "b = 200\n",
    "print('你好，我是模块B……')\n",
    "print(__name__)\n",
    "print(b)"
   ]
  },
  {
   "cell_type": "markdown",
   "metadata": {},
   "source": [
    "## 3. “__name__”与“__main__” \n",
    "\n",
    "看到现在也许心中还是疑惑，那么现在我们来说一说“if__name__=='__main__':”的原理。\n",
    "\n",
    "“__name__”是Python的内置变量，用于指代当前模块。我们修改上面用到的A模块和B模块，在模块中分别输出模块的名称：\n",
    "\n",
    "在B中导入A模块运行时，就有：\n",
    "\n",
    "你好，我是模块A…… \\\n",
    "模块A中__name__的值：package01.A \\\n",
    "------------------------- \\\n",
    "你好，我是模块B…… \\\n",
    "模块B中__name__的值：__main__ "
   ]
  }
 ],
 "metadata": {
  "kernelspec": {
   "display_name": "Python 3.8.13 ('MONAI41')",
   "language": "python",
   "name": "python3"
  },
  "language_info": {
   "codemirror_mode": {
    "name": "ipython",
    "version": 3
   },
   "file_extension": ".py",
   "mimetype": "text/x-python",
   "name": "python",
   "nbconvert_exporter": "python",
   "pygments_lexer": "ipython3",
   "version": "3.8.13"
  },
  "orig_nbformat": 4,
  "vscode": {
   "interpreter": {
    "hash": "3c01f883ef9e9befaa05a2a694449daf777fa23f3d50f249b4bf4fb6c581c032"
   }
  }
 },
 "nbformat": 4,
 "nbformat_minor": 2
}
